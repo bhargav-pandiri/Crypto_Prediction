{
 "cells": [
  {
   "cell_type": "code",
   "execution_count": null,
   "metadata": {},
   "outputs": [
    {
     "ename": "Exception",
     "evalue": "Failed to fetch data for owl: 429",
     "output_type": "error",
     "traceback": [
      "\u001b[1;31m---------------------------------------------------------------------------\u001b[0m",
      "\u001b[1;31mException\u001b[0m                                 Traceback (most recent call last)",
      "Cell \u001b[1;32mIn[8], line 33\u001b[0m\n\u001b[0;32m     31\u001b[0m currency_data \u001b[38;5;241m=\u001b[39m {}\n\u001b[0;32m     32\u001b[0m \u001b[38;5;28;01mfor\u001b[39;00m name, coin_id \u001b[38;5;129;01min\u001b[39;00m currencies\u001b[38;5;241m.\u001b[39mitems():\n\u001b[1;32m---> 33\u001b[0m     currency_data[name] \u001b[38;5;241m=\u001b[39m \u001b[43mfetch_currency_data\u001b[49m\u001b[43m(\u001b[49m\u001b[43mcoin_id\u001b[49m\u001b[43m,\u001b[49m\u001b[43m \u001b[49m\u001b[43mdays\u001b[49m\u001b[38;5;241;43m=\u001b[39;49m\u001b[38;5;241;43m100\u001b[39;49m\u001b[43m)\u001b[49m\n",
      "Cell \u001b[1;32mIn[8], line 28\u001b[0m, in \u001b[0;36mfetch_currency_data\u001b[1;34m(coin_id, days, currency)\u001b[0m\n\u001b[0;32m     26\u001b[0m     \u001b[38;5;28;01mreturn\u001b[39;00m df\n\u001b[0;32m     27\u001b[0m \u001b[38;5;28;01melse\u001b[39;00m:\n\u001b[1;32m---> 28\u001b[0m     \u001b[38;5;28;01mraise\u001b[39;00m \u001b[38;5;167;01mException\u001b[39;00m(\u001b[38;5;124mf\u001b[39m\u001b[38;5;124m\"\u001b[39m\u001b[38;5;124mFailed to fetch data for \u001b[39m\u001b[38;5;132;01m{\u001b[39;00mcoin_id\u001b[38;5;132;01m}\u001b[39;00m\u001b[38;5;124m: \u001b[39m\u001b[38;5;132;01m{\u001b[39;00mresponse\u001b[38;5;241m.\u001b[39mstatus_code\u001b[38;5;132;01m}\u001b[39;00m\u001b[38;5;124m\"\u001b[39m)\n",
      "\u001b[1;31mException\u001b[0m: Failed to fetch data for owl: 429"
     ]
    }
   ],
   "source": [
    "import requests\n",
    "import pandas as pd\n",
    "from datetime import datetime, timedelta\n",
    "\n",
    "# Define currencies and their CoinGecko IDs\n",
    "currencies = {\n",
    "    \"Ether\": \"ethereum\",\n",
    "    \"Akamaru\": \"akamaru\",\n",
    "    \"Carmine Token\": \"carmine-token\",\n",
    "    \"Dai Stablecoin\": \"dai\",\n",
    "    \"Dai Stablecoin (old)\": \"dai-old\",\n",
    "    \"Ekubo Protocol\": \"ekubo-protocol\",\n",
    "    \"LORDS\": \"lords\",\n",
    "    \"LUSD\": \"liquity-usd\",\n",
    "    \"Nostra\": \"nostra\",\n",
    "    \"OWL\": \"owl\",\n",
    "    \"Pain au Lait\": \"pain-au-lait\",\n",
    "    \"Paper\": \"paper\",\n",
    "    \"Rocket Pool ETH\": \"rocket-pool-eth\",\n",
    "    \"Stark Pepe\": \"stark-pepe\",\n",
    "    \"Starknet\": \"starknet\",\n",
    "    \"Standard Weighted Adalian Yield\": \"standard-weighted-adalian-yield\",\n",
    "    \"USDCoin\": \"usd-coin\",\n",
    "    \"Tether USD\": \"tether\",\n",
    "    \"Wrapped BTC\": \"wrapped-bitcoin\",\n",
    "    \"Wrapped stETH\": \"wrapped-steth\"\n",
    "}\n",
    "\n",
    "def fetch_currency_data(coin_id, days, currency=\"usd\"):\n",
    "    url = f\"https://api.coingecko.com/api/v3/coins/{coin_id}/market_chart\"\n",
    "    response = requests.get(url, params={\"vs_currency\": currency, \"days\": days})\n",
    "    if response.status_code == 200:\n",
    "        data = response.json()[\"prices\"]\n",
    "        df = pd.DataFrame(data, columns=[\"timestamp\", \"price\"])\n",
    "        df[\"timestamp\"] = pd.to_datetime(df[\"timestamp\"], unit=\"ms\")\n",
    "        return df\n",
    "    else:\n",
    "        raise Exception(f\"Failed to fetch data for {coin_id}: {response.status_code}\")\n",
    "\n",
    "# Fetch 100 days of data for all currencies\n",
    "currency_data = {}\n",
    "for name, coin_id in currencies.items():\n",
    "    currency_data[name] = fetch_currency_data(coin_id, days=100)\n"
   ]
  },
  {
   "cell_type": "code",
   "execution_count": null,
   "metadata": {},
   "outputs": [],
   "source": [
    "from statsmodels.tsa.arima.model import ARIMA\n",
    "import joblib\n",
    "\n",
    "def train_and_save_models(currency_data):\n",
    "    for name, df in currency_data.items():\n",
    "        print(f\"Training model for {name}...\")\n",
    "        train_data = df[\"price\"].values\n",
    "        model = ARIMA(train_data, order=(5, 1, 0))  # Adjust order as needed\n",
    "        model_fit = model.fit()\n",
    "        joblib.dump(model_fit, f\"{name}_model.pkl\")\n",
    "        print(f\"Model for {name} saved.\")\n",
    "\n",
    "train_and_save_models(currency_data)\n"
   ]
  },
  {
   "cell_type": "code",
   "execution_count": null,
   "metadata": {},
   "outputs": [],
   "source": [
    "def incremental_train_and_predict(currency_data, days_to_predict=10):\n",
    "    predictions = {}\n",
    "    for name, df in currency_data.items():\n",
    "        print(f\"Loading model for {name}...\")\n",
    "        model = joblib.load(f\"{name}_model.pkl\")\n",
    "        \n",
    "        # Use the last 30 days for incremental training\n",
    "        incremental_data = df[\"price\"].values[-30:]\n",
    "        model = model.append(incremental_data, refit=True)\n",
    "        \n",
    "        # Predict future prices\n",
    "        forecast = model.forecast(steps=days_to_predict)\n",
    "        predictions[name] = forecast\n",
    "        print(f\"Prediction for {name}: {forecast}\")\n",
    "    \n",
    "    return predictions\n",
    "\n",
    "# Perform incremental training and predictions\n",
    "predictions = incremental_train_and_predict(currency_data)\n"
   ]
  },
  {
   "cell_type": "code",
   "execution_count": null,
   "metadata": {},
   "outputs": [],
   "source": [
    "import matplotlib.pyplot as plt\n",
    "\n",
    "def display_predictions(predictions):\n",
    "    for name, forecast in predictions.items():\n",
    "        plt.figure(figsize=(10, 5))\n",
    "        plt.plot(forecast, label=\"Predicted Prices\", marker=\"o\")\n",
    "        plt.title(f\"Future Price Prediction for {name}\")\n",
    "        plt.xlabel(\"Days\")\n",
    "        plt.ylabel(\"Price\")\n",
    "        plt.legend()\n",
    "        plt.show()\n",
    "\n",
    "display_predictions(predictions)\n"
   ]
  }
 ],
 "metadata": {
  "kernelspec": {
   "display_name": "Python 3",
   "language": "python",
   "name": "python3"
  },
  "language_info": {
   "codemirror_mode": {
    "name": "ipython",
    "version": 3
   },
   "file_extension": ".py",
   "mimetype": "text/x-python",
   "name": "python",
   "nbconvert_exporter": "python",
   "pygments_lexer": "ipython3",
   "version": "3.11.4"
  }
 },
 "nbformat": 4,
 "nbformat_minor": 2
}
